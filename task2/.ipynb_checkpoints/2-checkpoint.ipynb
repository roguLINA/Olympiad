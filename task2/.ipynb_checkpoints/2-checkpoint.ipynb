{
 "cells": [
  {
   "cell_type": "code",
   "execution_count": 1,
   "metadata": {},
   "outputs": [],
   "source": [
    "import json"
   ]
  },
  {
   "cell_type": "code",
   "execution_count": 2,
   "metadata": {},
   "outputs": [],
   "source": [
    "def post(s, notes):\n",
    "    # Пусть запрос выглядит так:\n",
    "    # POST {\"title\": \"string\", \"content\": \"string\"} /notes\n",
    "    # Поскольку заголовок - не обязательный параметр, то если он отсутствует, будем в title добавлять строку None\n",
    "    s_dict = json.loads(s[s.find('{'):s.find('}')+1])\n",
    "    s_dict['id'] = len(notes) + 1\n",
    "    if 'title' not in s_dict.keys():\n",
    "        s_dict['title'] = 'None'\n",
    "    notes.append(s_dict)\n",
    "    status = 200\n",
    "    return status, notes"
   ]
  },
  {
   "cell_type": "code",
   "execution_count": 3,
   "metadata": {},
   "outputs": [],
   "source": [
    "def put(s, notes):\n",
    "    # Пусть запрос выглядит так:\n",
    "    # PUT {\"title\": \"string\", \"content\": \"string\"} /notes/number\n",
    "    idx = int(s[s.find('/notes/')+len('/notes/'):])\n",
    "    change_dict = json.loads(s[s.find('{'):s.find('}')+1])\n",
    "    status = 400\n",
    "    for i in range(len(notes)):\n",
    "        if notes[i]['id'] == idx:\n",
    "            notes[i]['title'] = change_dict['title']\n",
    "            notes[i]['content'] = change_dict['content']\n",
    "            status = 201\n",
    "    if status == 400:\n",
    "        print('There is no element with the id ', idx)\n",
    "    return status, notes"
   ]
  },
  {
   "cell_type": "code",
   "execution_count": 4,
   "metadata": {},
   "outputs": [],
   "source": [
    "def delete(s, notes):\n",
    "    # Пусть запрос выглядит так:\n",
    "    # DELETE /notes/number\n",
    "    idx = int(s[s.find('/notes/')+len('/notes/'):])\n",
    "    i = 0\n",
    "    f = True\n",
    "    status = 450\n",
    "    while f and i < len(notes):\n",
    "        if notes[i]['id'] == idx:\n",
    "            f = False\n",
    "            status = 203\n",
    "        else:\n",
    "            i += 1\n",
    "    if status == 450:\n",
    "        print('There is no element with the id ', idx)\n",
    "    else:\n",
    "        del notes[i]\n",
    "    return status, notes"
   ]
  },
  {
   "cell_type": "code",
   "execution_count": 5,
   "metadata": {},
   "outputs": [],
   "source": [
    "def get(s, notes):\n",
    "    status = 500\n",
    "    if s.endswith('/notes'):\n",
    "        # Запрос выглядит так:\n",
    "        # GET /notes\n",
    "        if len(notes) == 0:\n",
    "            print('The notes has not got any element yet')\n",
    "        else:\n",
    "            status = 202\n",
    "        return status, notes\n",
    "    elif '/notes?query=' in s:\n",
    "        # Запрос выглядит так:\n",
    "        # GET /notes?query={\"title\": \"string\", \"content\": \"string\"}\n",
    "        ans = []\n",
    "        rule = json.loads(s[s.find('{'):s.find('}')+1])\n",
    "        for i in range(len(notes)):\n",
    "            if notes[i]['title'] == rule['title'] and notes[i]['content'] == rule['content']:\n",
    "                ans.append(notes[i])\n",
    "        if len(ans) == 0:\n",
    "            print('There is no element with the same title and content')\n",
    "        else:\n",
    "            status = 202\n",
    "        return status, ans\n",
    "    else:\n",
    "        # Запрос выглядит так:\n",
    "        # GET /notes/number\n",
    "        idx = int(s[s.find('/notes/')+len('/notes/'):])\n",
    "        i = 0\n",
    "        f = True\n",
    "        while f and i < len(notes):\n",
    "            if notes[i]['id'] == idx:\n",
    "                f = False\n",
    "            else:\n",
    "                i += 1\n",
    "        if f:\n",
    "            print('There is no element with the same id ', idx)\n",
    "            return status, notes\n",
    "        else:\n",
    "            status = 202\n",
    "        return status, notes[i]"
   ]
  },
  {
   "cell_type": "code",
   "execution_count": 6,
   "metadata": {},
   "outputs": [],
   "source": [
    "def main():\n",
    "    notes = []\n",
    "    f = True\n",
    "    status = 600\n",
    "    while f:\n",
    "        request = input()\n",
    "        if request.startswith('POST'):\n",
    "            status, notes = post(request, notes)\n",
    "            print('status', status)\n",
    "        elif request.startswith('PUT'):\n",
    "            status, notes = put(request, notes)\n",
    "            print('status', status)\n",
    "        elif request.startswith('GET'):\n",
    "            status, ans = get(request, notes)\n",
    "            print('status', status)\n",
    "            print(json.dumps(ans, indent=4))\n",
    "        elif request.startswith('DELETE'):\n",
    "            status, notes = delete(request, notes)\n",
    "            print('status', status)\n",
    "        else:\n",
    "            f = False\n",
    "    return status, notes"
   ]
  },
  {
   "cell_type": "code",
   "execution_count": 8,
   "metadata": {},
   "outputs": [
    {
     "name": "stdin",
     "output_type": "stream",
     "text": [
      " POST {\"title\": \"string\", \"content\": \"string\"} /notes\n"
     ]
    },
    {
     "name": "stdout",
     "output_type": "stream",
     "text": [
      "status 200\n"
     ]
    },
    {
     "name": "stdin",
     "output_type": "stream",
     "text": [
      " POST {\"title\": \"string\", \"content\": \"string\"} /notes\n"
     ]
    },
    {
     "name": "stdout",
     "output_type": "stream",
     "text": [
      "status 200\n"
     ]
    },
    {
     "name": "stdin",
     "output_type": "stream",
     "text": [
      " POST {\"title\": \"string\", \"content\": \"string\"} /notes\n"
     ]
    },
    {
     "name": "stdout",
     "output_type": "stream",
     "text": [
      "status 200\n"
     ]
    },
    {
     "name": "stdin",
     "output_type": "stream",
     "text": [
      " POST {\"title\": \"string\", \"content\": \"string\"} /notes\n"
     ]
    },
    {
     "name": "stdout",
     "output_type": "stream",
     "text": [
      "status 200\n"
     ]
    },
    {
     "name": "stdin",
     "output_type": "stream",
     "text": [
      " POST {\"title\": \"string\", \"content\": \"string\"} /notes\n"
     ]
    },
    {
     "name": "stdout",
     "output_type": "stream",
     "text": [
      "status 200\n"
     ]
    },
    {
     "name": "stdin",
     "output_type": "stream",
     "text": [
      " DELETE /notes/10\n"
     ]
    },
    {
     "name": "stdout",
     "output_type": "stream",
     "text": [
      "There is no element with the id  10\n",
      "status 450\n"
     ]
    },
    {
     "name": "stdin",
     "output_type": "stream",
     "text": [
      " DELETE /notes/3\n"
     ]
    },
    {
     "name": "stdout",
     "output_type": "stream",
     "text": [
      "status 203\n"
     ]
    },
    {
     "name": "stdin",
     "output_type": "stream",
     "text": [
      " GET /notes\n"
     ]
    },
    {
     "name": "stdout",
     "output_type": "stream",
     "text": [
      "status 202\n",
      "[\n",
      "    {\n",
      "        \"title\": \"string\",\n",
      "        \"content\": \"string\",\n",
      "        \"id\": 1\n",
      "    },\n",
      "    {\n",
      "        \"title\": \"string\",\n",
      "        \"content\": \"string\",\n",
      "        \"id\": 2\n",
      "    },\n",
      "    {\n",
      "        \"title\": \"string\",\n",
      "        \"content\": \"string\",\n",
      "        \"id\": 4\n",
      "    },\n",
      "    {\n",
      "        \"title\": \"string\",\n",
      "        \"content\": \"string\",\n",
      "        \"id\": 5\n",
      "    }\n",
      "]\n"
     ]
    },
    {
     "name": "stdin",
     "output_type": "stream",
     "text": [
      " GET /notes/3\n"
     ]
    },
    {
     "name": "stdout",
     "output_type": "stream",
     "text": [
      "There is no element with the same id  3\n",
      "status 500\n",
      "[\n",
      "    {\n",
      "        \"title\": \"string\",\n",
      "        \"content\": \"string\",\n",
      "        \"id\": 1\n",
      "    },\n",
      "    {\n",
      "        \"title\": \"string\",\n",
      "        \"content\": \"string\",\n",
      "        \"id\": 2\n",
      "    },\n",
      "    {\n",
      "        \"title\": \"string\",\n",
      "        \"content\": \"string\",\n",
      "        \"id\": 4\n",
      "    },\n",
      "    {\n",
      "        \"title\": \"string\",\n",
      "        \"content\": \"string\",\n",
      "        \"id\": 5\n",
      "    }\n",
      "]\n"
     ]
    },
    {
     "name": "stdin",
     "output_type": "stream",
     "text": [
      " GET /notes?query={\"title\": \"string\", \"content\": \"string\"}\n"
     ]
    },
    {
     "name": "stdout",
     "output_type": "stream",
     "text": [
      "status 202\n",
      "[\n",
      "    {\n",
      "        \"title\": \"string\",\n",
      "        \"content\": \"string\",\n",
      "        \"id\": 1\n",
      "    },\n",
      "    {\n",
      "        \"title\": \"string\",\n",
      "        \"content\": \"string\",\n",
      "        \"id\": 2\n",
      "    },\n",
      "    {\n",
      "        \"title\": \"string\",\n",
      "        \"content\": \"string\",\n",
      "        \"id\": 4\n",
      "    },\n",
      "    {\n",
      "        \"title\": \"string\",\n",
      "        \"content\": \"string\",\n",
      "        \"id\": 5\n",
      "    }\n",
      "]\n"
     ]
    },
    {
     "name": "stdin",
     "output_type": "stream",
     "text": [
      " PUT {\"title\": \"string\", \"content\": \"string\"} /notes/10\n"
     ]
    },
    {
     "name": "stdout",
     "output_type": "stream",
     "text": [
      "There is no element with the id  10\n",
      "status 400\n"
     ]
    },
    {
     "name": "stdin",
     "output_type": "stream",
     "text": [
      " PUT {\"title\": \"string\", \"content\": \"string\"} /notes/3\n"
     ]
    },
    {
     "name": "stdout",
     "output_type": "stream",
     "text": [
      "There is no element with the id  3\n",
      "status 400\n"
     ]
    },
    {
     "name": "stdin",
     "output_type": "stream",
     "text": [
      " PUT {\"title\": \"string1\", \"content\": \"string1\"} /notes/1\n"
     ]
    },
    {
     "name": "stdout",
     "output_type": "stream",
     "text": [
      "status 201\n"
     ]
    },
    {
     "name": "stdin",
     "output_type": "stream",
     "text": [
      " PUT {\"title\": \"string5\", \"content\": \"string5\"} /notes/5\n"
     ]
    },
    {
     "name": "stdout",
     "output_type": "stream",
     "text": [
      "status 201\n"
     ]
    },
    {
     "name": "stdin",
     "output_type": "stream",
     "text": [
      " GET /notes?query={\"title\": \"string\", \"content\": \"string\"}\n"
     ]
    },
    {
     "name": "stdout",
     "output_type": "stream",
     "text": [
      "status 202\n",
      "[\n",
      "    {\n",
      "        \"title\": \"string\",\n",
      "        \"content\": \"string\",\n",
      "        \"id\": 2\n",
      "    },\n",
      "    {\n",
      "        \"title\": \"string\",\n",
      "        \"content\": \"string\",\n",
      "        \"id\": 4\n",
      "    }\n",
      "]\n"
     ]
    },
    {
     "name": "stdin",
     "output_type": "stream",
     "text": [
      " End\n"
     ]
    },
    {
     "name": "stdout",
     "output_type": "stream",
     "text": [
      "Status:  202\n",
      "Notes:\n",
      "[\n",
      "    {\n",
      "        \"title\": \"string1\",\n",
      "        \"content\": \"string1\",\n",
      "        \"id\": 1\n",
      "    },\n",
      "    {\n",
      "        \"title\": \"string\",\n",
      "        \"content\": \"string\",\n",
      "        \"id\": 2\n",
      "    },\n",
      "    {\n",
      "        \"title\": \"string\",\n",
      "        \"content\": \"string\",\n",
      "        \"id\": 4\n",
      "    },\n",
      "    {\n",
      "        \"title\": \"string5\",\n",
      "        \"content\": \"string5\",\n",
      "        \"id\": 5\n",
      "    }\n",
      "]\n"
     ]
    }
   ],
   "source": [
    "finish_status, notes_list = main()\n",
    "print('Status: ', finish_status)\n",
    "print('Notes:')\n",
    "print(json.dumps(notes_list, indent=4))"
   ]
  },
  {
   "cell_type": "code",
   "execution_count": null,
   "metadata": {},
   "outputs": [],
   "source": []
  }
 ],
 "metadata": {
  "kernelspec": {
   "display_name": "Python 3",
   "language": "python",
   "name": "python3"
  },
  "language_info": {
   "codemirror_mode": {
    "name": "ipython",
    "version": 3
   },
   "file_extension": ".py",
   "mimetype": "text/x-python",
   "name": "python",
   "nbconvert_exporter": "python",
   "pygments_lexer": "ipython3",
   "version": "3.8.5"
  }
 },
 "nbformat": 4,
 "nbformat_minor": 4
}
